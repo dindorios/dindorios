{
  "nbformat": 4,
  "nbformat_minor": 0,
  "metadata": {
    "colab": {
      "provenance": [],
      "authorship_tag": "ABX9TyNK3lK1WtNXaK+koVLzjPeX",
      "include_colab_link": true
    },
    "kernelspec": {
      "name": "python3",
      "display_name": "Python 3"
    },
    "language_info": {
      "name": "python"
    }
  },
  "cells": [
    {
      "cell_type": "markdown",
      "metadata": {
        "id": "view-in-github",
        "colab_type": "text"
      },
      "source": [
        "<a href=\"https://colab.research.google.com/github/dindorios/dindorios/blob/main/BasedeDadoseTreinamentodaRedeYOLO.ipynb\" target=\"_parent\"><img src=\"https://colab.research.google.com/assets/colab-badge.svg\" alt=\"Open In Colab\"/></a>"
      ]
    },
    {
      "cell_type": "code",
      "execution_count": null,
      "metadata": {
        "id": "LuJL1ZzpF6AZ"
      },
      "outputs": [],
      "source": [
        "!pip install ultralytics\n",
        "!pip install fiftyone"
      ]
    },
    {
      "cell_type": "code",
      "source": [
        "#Treinar o modelo YOLOv8\n",
        "!yolo train model=yolov8n.pt data=coco.yaml epochs=50 imgsz=640 project=/content/drive/MyDrive/yolov8_weights\n",
        "# Avaliar o modelo\n",
        "!yolo val model=/content/drive/MyDrive/yolov8_weights/train/weights/best.pt data=coco.yaml"
      ],
      "metadata": {
        "id": "TwWAio6wKhvF"
      },
      "execution_count": null,
      "outputs": []
    },
    {
      "cell_type": "code",
      "source": [
        "import fiftyone as fo\n",
        "import fiftyone.zoo as foz\n",
        "import os\n",
        "from google.colab import drive\n",
        "\n",
        "# 1. Montar o Google Drive (com tratamento de erros)\n",
        "try:\n",
        "    drive.mount('/content/drive')\n",
        "    print(\"Drive montado com sucesso!\")\n",
        "except ValueError as e:\n",
        "    print(f\"Erro ao montar o Drive: {e}\")\n",
        "    print(\"Verifique sua conexão e tente novamente.\")\n",
        "    exit() # Interrompe a execução se o Drive não for montado\n",
        "except Exception as e:\n",
        "    print(f\"Erro inesperado ao montar o Drive: {e}\")\n",
        "    exit()\n",
        "\n",
        "# 2. Definir parâmetros do dataset\n",
        "dataset_name = \"coco-2017\"\n",
        "classes_of_interest = [\"person\", \"car\", \"truck\", \"dog\", \"bicycle\"]\n",
        "split = \"train\" # ou \"validation\", \"test\"\n",
        "max_samples = 5000 # Ajuste conforme necessário (use um número menor para testes)\n",
        "export_dir = \"/content/coco_yolo_format\"\n",
        "yolo_format_dataset_name = f\"{dataset_name}-{split}-yolo-{'-'.join(classes_of_interest)}\" #Nome mais descritivo\n",
        "\n",
        "# 3. Verificar se o dataset já existe no FiftyOne ou no formato YOLO no Drive\n",
        "if fo.dataset_exists(yolo_format_dataset_name):\n",
        "    print(f\"Dataset YOLO formatado {yolo_format_dataset_name} já existe no FiftyOne. Carregando...\")\n",
        "    dataset = fo.load_dataset(yolo_format_dataset_name)\n",
        "elif fo.dataset_exists(dataset_name):\n",
        "  dataset = fo.load_dataset(dataset_name)\n",
        "  print(f\"Dataset {dataset_name} ja existe, exportando para formato YOLO...\")\n",
        "  dataset.export(\n",
        "      export_dir=export_dir,\n",
        "      dataset_type=fo.types.YOLOv5Dataset,\n",
        "      classes=classes_of_interest\n",
        "  )\n",
        "  dataset.name = yolo_format_dataset_name\n",
        "  dataset.save()\n",
        "  print(f\"Dataset exportado e salvo com o nome {yolo_format_dataset_name}\")\n",
        "else:\n",
        "    print(f\"Dataset {dataset_name} não encontrado. Baixando...\")\n",
        "    dataset = foz.load_zoo_dataset(\n",
        "        dataset_name,\n",
        "        split=split,\n",
        "        label_types=[\"detections\"],\n",
        "        classes=classes_of_interest,\n",
        "        max_samples=max_samples\n",
        "    )\n",
        "    dataset.name = dataset_name\n",
        "    dataset.save()\n",
        "    print(f\"Dataset {dataset_name} carregado e salvo no FiftyOne\")\n",
        "\n",
        "    print(\"Exportando dataset para formato YOLO...\")\n",
        "\n",
        "    dataset.export(\n",
        "      export_dir=export_dir,\n",
        "      dataset_type=fo.types.YOLOv5Dataset,\n",
        "      classes=classes_of_interest\n",
        "    )\n",
        "    dataset.name = yolo_format_dataset_name\n",
        "    dataset.save()\n",
        "    print(f\"Dataset exportado e salvo com o nome {yolo_format_dataset_name}\")\n",
        "\n",
        "# 4. Criar pastas no Drive para os pesos (movido para antes do treinamento)\n",
        "weights_path = \"/content/drive/MyDrive/yolov8_weights\"\n",
        "if not os.path.exists(weights_path):\n",
        "    os.makedirs(weights_path)\n",
        "    print(f\"Pasta {weights_path} criada no Drive.\")\n",
        "else:\n",
        "    print(f\"Pasta {weights_path} já existe no Drive.\")\n",
        "\n",
        "print(\"Processo de preparação do dataset concluído.\")"
      ],
      "metadata": {
        "id": "UYViQ1CdPR0-"
      },
      "execution_count": null,
      "outputs": []
    },
    {
      "cell_type": "code",
      "source": [
        "# Criar o arquivo YAML: Crie um arquivo coco.yaml dentro do Colab\n",
        "%%writefile coco.yaml\n",
        "train: /content/coco_yolo_format/train/images\n",
        "val: /content/coco_yolo_format/valid/images\n",
        "test: /content/coco_yolo_format/test/images\n",
        "\n",
        "nc: 5  # Numero de classes\n",
        "names: ['person', 'car', 'truck', 'dog', 'bicycle'] # Nomes das classes"
      ],
      "metadata": {
        "id": "CvSBB7s9Kere"
      },
      "execution_count": null,
      "outputs": []
    }
  ]
}